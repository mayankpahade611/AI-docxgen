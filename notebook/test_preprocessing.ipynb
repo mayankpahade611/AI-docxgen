{
 "cells": [
  {
   "cell_type": "code",
   "execution_count": 5,
   "id": "5af1fd59",
   "metadata": {},
   "outputs": [
    {
     "name": "stderr",
     "output_type": "stream",
     "text": [
      "<>:8: SyntaxWarning: invalid escape sequence '\\S'\n",
      "<>:9: SyntaxWarning: invalid escape sequence '\\S'\n",
      "<>:8: SyntaxWarning: invalid escape sequence '\\S'\n",
      "<>:9: SyntaxWarning: invalid escape sequence '\\S'\n",
      "C:\\Users\\mayan\\AppData\\Local\\Temp\\ipykernel_17644\\2199505952.py:8: SyntaxWarning: invalid escape sequence '\\S'\n",
      "  code_data = collect_code_data(\"C:\\Stock_Predictor\")\n",
      "C:\\Users\\mayan\\AppData\\Local\\Temp\\ipykernel_17644\\2199505952.py:9: SyntaxWarning: invalid escape sequence '\\S'\n",
      "  git_data = collect_git_history(\"C:\\Stock_Predictor\", \"src/model_training.py\")\n"
     ]
    },
    {
     "data": {
      "text/plain": [
       "[{'file': None, 'functions': [], 'classes': [], 'commits': []}]"
      ]
     },
     "execution_count": 5,
     "metadata": {},
     "output_type": "execute_result"
    }
   ],
   "source": [
    "import sys\n",
    "sys.path.append(\"..\")\n",
    "\n",
    "from collectors.code_collector import collect_code_data\n",
    "from collectors.git_collector import collect_git_history\n",
    "from preprocessor.linker import link_commits_to_files\n",
    "\n",
    "code_data = collect_code_data(\"C:\\Stock_Predictor\")\n",
    "git_data = collect_git_history(\"C:\\Stock_Predictor\", \"src/model_training.py\")\n",
    "linked = link_commits_to_files(code_data, git_data)\n",
    "\n",
    "linked[:2]"
   ]
  },
  {
   "cell_type": "code",
   "execution_count": null,
   "id": "43c24d16",
   "metadata": {},
   "outputs": [],
   "source": []
  },
  {
   "cell_type": "code",
   "execution_count": null,
   "id": "8a12e012",
   "metadata": {},
   "outputs": [],
   "source": []
  }
 ],
 "metadata": {
  "kernelspec": {
   "display_name": ".venv",
   "language": "python",
   "name": "python3"
  },
  "language_info": {
   "codemirror_mode": {
    "name": "ipython",
    "version": 3
   },
   "file_extension": ".py",
   "mimetype": "text/x-python",
   "name": "python",
   "nbconvert_exporter": "python",
   "pygments_lexer": "ipython3",
   "version": "3.13.3"
  }
 },
 "nbformat": 4,
 "nbformat_minor": 5
}
