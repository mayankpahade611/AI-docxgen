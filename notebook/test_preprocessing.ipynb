{
 "cells": [
  {
   "cell_type": "code",
   "execution_count": 1,
   "id": "5af1fd59",
   "metadata": {},
   "outputs": [
    {
     "name": "stderr",
     "output_type": "stream",
     "text": [
      "<>:8: SyntaxWarning: invalid escape sequence '\\B'\n",
      "<>:9: SyntaxWarning: invalid escape sequence '\\B'\n",
      "<>:8: SyntaxWarning: invalid escape sequence '\\B'\n",
      "<>:9: SyntaxWarning: invalid escape sequence '\\B'\n",
      "C:\\Users\\mayan\\AppData\\Local\\Temp\\ipykernel_11644\\2643483575.py:8: SyntaxWarning: invalid escape sequence '\\B'\n",
      "  code_data = collect_code_data(\"C:\\Backyard-Farming-2.0\")\n",
      "C:\\Users\\mayan\\AppData\\Local\\Temp\\ipykernel_11644\\2643483575.py:9: SyntaxWarning: invalid escape sequence '\\B'\n",
      "  git_data = collect_git_history(\"C:\\Backyard-Farming-2.0\")\n",
      "C:\\Users\\mayan\\AppData\\Local\\Temp\\ipykernel_11644\\2643483575.py:8: SyntaxWarning: invalid escape sequence '\\B'\n",
      "  code_data = collect_code_data(\"C:\\Backyard-Farming-2.0\")\n",
      "C:\\Users\\mayan\\AppData\\Local\\Temp\\ipykernel_11644\\2643483575.py:9: SyntaxWarning: invalid escape sequence '\\B'\n",
      "  git_data = collect_git_history(\"C:\\Backyard-Farming-2.0\")\n"
     ]
    },
    {
     "ename": "AttributeError",
     "evalue": "'list' object has no attribute 'get'",
     "output_type": "error",
     "traceback": [
      "\u001b[31m---------------------------------------------------------------------------\u001b[39m",
      "\u001b[31mAttributeError\u001b[39m                            Traceback (most recent call last)",
      "\u001b[36mCell\u001b[39m\u001b[36m \u001b[39m\u001b[32mIn[1]\u001b[39m\u001b[32m, line 10\u001b[39m\n\u001b[32m      8\u001b[39m code_data = collect_code_data(\u001b[33m\"\u001b[39m\u001b[33mC:\u001b[39m\u001b[33m\\\u001b[39m\u001b[33mBackyard-Farming-2.0\u001b[39m\u001b[33m\"\u001b[39m)\n\u001b[32m      9\u001b[39m git_data = collect_git_history(\u001b[33m\"\u001b[39m\u001b[33mC:\u001b[39m\u001b[33m\\\u001b[39m\u001b[33mBackyard-Farming-2.0\u001b[39m\u001b[33m\"\u001b[39m)\n\u001b[32m---> \u001b[39m\u001b[32m10\u001b[39m linked = \u001b[43mlink_commits_to_files\u001b[49m\u001b[43m(\u001b[49m\u001b[43mcode_data\u001b[49m\u001b[43m,\u001b[49m\u001b[43m \u001b[49m\u001b[43mgit_data\u001b[49m\u001b[43m)\u001b[49m\n\u001b[32m     12\u001b[39m linked[:\u001b[32m2\u001b[39m]\n",
      "\u001b[36mFile \u001b[39m\u001b[32mc:\\Projects ML\\AI docxgen\\notebook\\..\\preprocessor\\linker.py:6\u001b[39m, in \u001b[36mlink_commits_to_files\u001b[39m\u001b[34m(code_data, git_data)\u001b[39m\n\u001b[32m      3\u001b[39m linked_data = []\n\u001b[32m      5\u001b[39m \u001b[38;5;28;01mfor\u001b[39;00m file_entry \u001b[38;5;129;01min\u001b[39;00m code_data:\n\u001b[32m----> \u001b[39m\u001b[32m6\u001b[39m     file_path = \u001b[43mfile_entry\u001b[49m\u001b[43m.\u001b[49m\u001b[43mget\u001b[49m(\u001b[33m\"\u001b[39m\u001b[33mfile\u001b[39m\u001b[33m\"\u001b[39m)\n\u001b[32m      7\u001b[39m     affected_commits = [\n\u001b[32m      8\u001b[39m         c \u001b[38;5;28;01mfor\u001b[39;00m c \u001b[38;5;129;01min\u001b[39;00m git_data \u001b[38;5;28;01mif\u001b[39;00m file_path \u001b[38;5;129;01min\u001b[39;00m c.get(\u001b[33m\"\u001b[39m\u001b[33mfiles\u001b[39m\u001b[33m\"\u001b[39m, [])\n\u001b[32m      9\u001b[39m     ]\n\u001b[32m     10\u001b[39m     linked_data.append({\n\u001b[32m     11\u001b[39m         \u001b[33m\"\u001b[39m\u001b[33mfile\u001b[39m\u001b[33m\"\u001b[39m: file_path,\n\u001b[32m     12\u001b[39m         \u001b[33m\"\u001b[39m\u001b[33mfunctions\u001b[39m\u001b[33m\"\u001b[39m: file_entry.get(\u001b[33m\"\u001b[39m\u001b[33mfunctions\u001b[39m\u001b[33m\"\u001b[39m, []),\n\u001b[32m     13\u001b[39m         \u001b[33m\"\u001b[39m\u001b[33mclasses\u001b[39m\u001b[33m\"\u001b[39m: file_entry.get(\u001b[33m\"\u001b[39m\u001b[33mclasses\u001b[39m\u001b[33m\"\u001b[39m, []),\n\u001b[32m     14\u001b[39m         \u001b[33m\"\u001b[39m\u001b[33mcommits\u001b[39m\u001b[33m\"\u001b[39m: affected_commits\n\u001b[32m     15\u001b[39m     })\n",
      "\u001b[31mAttributeError\u001b[39m: 'list' object has no attribute 'get'"
     ]
    }
   ],
   "source": [
    "import sys\n",
    "sys.path.append(\"..\")\n",
    "\n",
    "from collectors.code_collector import collect_code_data\n",
    "from collectors.git_collector import collect_git_history\n",
    "from preprocessor.linker import link_commits_to_files\n",
    "\n",
    "code_data = collect_code_data(\"C:\\Backyard-Farming-2.0\")\n",
    "git_data = collect_git_history(\"C:\\Backyard-Farming-2.0\")\n",
    "linked = link_commits_to_files(code_data, git_data)\n",
    "\n",
    "linked[:2]"
   ]
  },
  {
   "cell_type": "code",
   "execution_count": 3,
   "id": "43c24d16",
   "metadata": {},
   "outputs": [
    {
     "ename": "AttributeError",
     "evalue": "'list' object has no attribute 'get'",
     "output_type": "error",
     "traceback": [
      "\u001b[31m---------------------------------------------------------------------------\u001b[39m",
      "\u001b[31mAttributeError\u001b[39m                            Traceback (most recent call last)",
      "\u001b[36mCell\u001b[39m\u001b[36m \u001b[39m\u001b[32mIn[3]\u001b[39m\u001b[32m, line 18\u001b[39m\n\u001b[32m     15\u001b[39m git_data = collect_git_history(repo_path)\n\u001b[32m     17\u001b[39m \u001b[38;5;66;03m# 🔗 Link commits to functions/classes\u001b[39;00m\n\u001b[32m---> \u001b[39m\u001b[32m18\u001b[39m linked = \u001b[43mlink_commits_to_files\u001b[49m\u001b[43m(\u001b[49m\u001b[43mcode_data\u001b[49m\u001b[43m,\u001b[49m\u001b[43m \u001b[49m\u001b[43mgit_data\u001b[49m\u001b[43m)\u001b[49m\n\u001b[32m     20\u001b[39m \u001b[38;5;66;03m# 👀 Display first few entries\u001b[39;00m\n\u001b[32m     21\u001b[39m \u001b[38;5;28;01mfrom\u001b[39;00m\u001b[38;5;250m \u001b[39m\u001b[34;01mpprint\u001b[39;00m\u001b[38;5;250m \u001b[39m\u001b[38;5;28;01mimport\u001b[39;00m pprint\n",
      "\u001b[36mFile \u001b[39m\u001b[32mc:\\Projects ML\\AI docxgen\\notebook\\..\\preprocessor\\linker.py:6\u001b[39m, in \u001b[36mlink_commits_to_files\u001b[39m\u001b[34m(code_data, git_data)\u001b[39m\n\u001b[32m      3\u001b[39m linked_data = []\n\u001b[32m      5\u001b[39m \u001b[38;5;28;01mfor\u001b[39;00m file_entry \u001b[38;5;129;01min\u001b[39;00m code_data:\n\u001b[32m----> \u001b[39m\u001b[32m6\u001b[39m     file_path = \u001b[43mfile_entry\u001b[49m\u001b[43m.\u001b[49m\u001b[43mget\u001b[49m(\u001b[33m\"\u001b[39m\u001b[33mfile\u001b[39m\u001b[33m\"\u001b[39m)\n\u001b[32m      7\u001b[39m     affected_commits = [\n\u001b[32m      8\u001b[39m         c \u001b[38;5;28;01mfor\u001b[39;00m c \u001b[38;5;129;01min\u001b[39;00m git_data \u001b[38;5;28;01mif\u001b[39;00m file_path \u001b[38;5;129;01min\u001b[39;00m c.get(\u001b[33m\"\u001b[39m\u001b[33mfiles\u001b[39m\u001b[33m\"\u001b[39m, [])\n\u001b[32m      9\u001b[39m     ]\n\u001b[32m     10\u001b[39m     linked_data.append({\n\u001b[32m     11\u001b[39m         \u001b[33m\"\u001b[39m\u001b[33mfile\u001b[39m\u001b[33m\"\u001b[39m: file_path,\n\u001b[32m     12\u001b[39m         \u001b[33m\"\u001b[39m\u001b[33mfunctions\u001b[39m\u001b[33m\"\u001b[39m: file_entry.get(\u001b[33m\"\u001b[39m\u001b[33mfunctions\u001b[39m\u001b[33m\"\u001b[39m, []),\n\u001b[32m     13\u001b[39m         \u001b[33m\"\u001b[39m\u001b[33mclasses\u001b[39m\u001b[33m\"\u001b[39m: file_entry.get(\u001b[33m\"\u001b[39m\u001b[33mclasses\u001b[39m\u001b[33m\"\u001b[39m, []),\n\u001b[32m     14\u001b[39m         \u001b[33m\"\u001b[39m\u001b[33mcommits\u001b[39m\u001b[33m\"\u001b[39m: affected_commits\n\u001b[32m     15\u001b[39m     })\n",
      "\u001b[31mAttributeError\u001b[39m: 'list' object has no attribute 'get'"
     ]
    }
   ],
   "source": [
    "import sys\n",
    "sys.path.append(\"..\")\n",
    "\n",
    "from collectors.code_collector import collect_code_data\n",
    "from collectors.git_collector import collect_git_history\n",
    "from preprocessor.linker import link_commits_to_files\n",
    "\n",
    "# ✅ Use raw strings for Windows paths\n",
    "repo_path = r\"C:\\Backyard-Farming-2.0\"\n",
    "\n",
    "# 🧠 Collect code structure\n",
    "code_data = collect_code_data(repo_path)\n",
    "\n",
    "# 🧠 Collect git commits for all files\n",
    "git_data = collect_git_history(repo_path)\n",
    "\n",
    "# 🔗 Link commits to functions/classes\n",
    "linked = link_commits_to_files(code_data, git_data)\n",
    "\n",
    "# 👀 Display first few entries\n",
    "from pprint import pprint\n",
    "pprint(linked[:3])\n"
   ]
  },
  {
   "cell_type": "code",
   "execution_count": null,
   "id": "8a12e012",
   "metadata": {},
   "outputs": [],
   "source": []
  }
 ],
 "metadata": {
  "kernelspec": {
   "display_name": ".venv",
   "language": "python",
   "name": "python3"
  },
  "language_info": {
   "codemirror_mode": {
    "name": "ipython",
    "version": 3
   },
   "file_extension": ".py",
   "mimetype": "text/x-python",
   "name": "python",
   "nbconvert_exporter": "python",
   "pygments_lexer": "ipython3",
   "version": "3.13.3"
  }
 },
 "nbformat": 4,
 "nbformat_minor": 5
}
