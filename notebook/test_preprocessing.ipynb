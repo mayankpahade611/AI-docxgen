{
 "cells": [
  {
   "cell_type": "code",
   "execution_count": null,
   "id": "5af1fd59",
   "metadata": {},
   "outputs": [
    {
     "name": "stderr",
     "output_type": "stream",
     "text": [
      "<>:8: SyntaxWarning: invalid escape sequence '\\B'\n",
      "<>:9: SyntaxWarning: invalid escape sequence '\\B'\n",
      "<>:8: SyntaxWarning: invalid escape sequence '\\B'\n",
      "<>:9: SyntaxWarning: invalid escape sequence '\\B'\n",
      "C:\\Users\\mayan\\AppData\\Local\\Temp\\ipykernel_17576\\2643483575.py:8: SyntaxWarning: invalid escape sequence '\\B'\n",
      "  code_data = collect_code_data(\"C:\\Backyard-Farming-2.0\")\n",
      "C:\\Users\\mayan\\AppData\\Local\\Temp\\ipykernel_17576\\2643483575.py:9: SyntaxWarning: invalid escape sequence '\\B'\n",
      "  git_data = collect_git_history(\"C:\\Backyard-Farming-2.0\")\n"
     ]
    },
    {
     "ename": "AttributeError",
     "evalue": "'Commit' object has no attribute 'status'",
     "output_type": "error",
     "traceback": [
      "\u001b[31m---------------------------------------------------------------------------\u001b[39m",
      "\u001b[31mAttributeError\u001b[39m                            Traceback (most recent call last)",
      "\u001b[36mCell\u001b[39m\u001b[36m \u001b[39m\u001b[32mIn[4]\u001b[39m\u001b[32m, line 9\u001b[39m\n\u001b[32m      6\u001b[39m \u001b[38;5;28;01mfrom\u001b[39;00m\u001b[38;5;250m \u001b[39m\u001b[34;01mpreprocessor\u001b[39;00m\u001b[34;01m.\u001b[39;00m\u001b[34;01mlinker\u001b[39;00m\u001b[38;5;250m \u001b[39m\u001b[38;5;28;01mimport\u001b[39;00m link_commits_to_files\n\u001b[32m      8\u001b[39m code_data = collect_code_data(\u001b[33m\"\u001b[39m\u001b[33mC:\u001b[39m\u001b[33m\\\u001b[39m\u001b[33mBackyard-Farming-2.0\u001b[39m\u001b[33m\"\u001b[39m)\n\u001b[32m----> \u001b[39m\u001b[32m9\u001b[39m git_data = \u001b[43mcollect_git_history\u001b[49m\u001b[43m(\u001b[49m\u001b[33;43m\"\u001b[39;49m\u001b[33;43mC:\u001b[39;49m\u001b[33;43m\\\u001b[39;49m\u001b[33;43mBackyard-Farming-2.0\u001b[39;49m\u001b[33;43m\"\u001b[39;49m\u001b[43m)\u001b[49m\n\u001b[32m     10\u001b[39m linked = link_commits_to_files(code_data, git_data)\n\u001b[32m     12\u001b[39m linked[:\u001b[32m2\u001b[39m]\n",
      "\u001b[36mFile \u001b[39m\u001b[32mc:\\Projects ML\\AI docxgen\\notebook\\..\\collectors\\git_collector.py:36\u001b[39m, in \u001b[36mcollect_git_history\u001b[39m\u001b[34m(repo_path)\u001b[39m\n\u001b[32m     32\u001b[39m commits_data = []\n\u001b[32m     35\u001b[39m \u001b[38;5;28;01mfor\u001b[39;00m commit \u001b[38;5;129;01min\u001b[39;00m repo.iter_commits():\n\u001b[32m---> \u001b[39m\u001b[32m36\u001b[39m     \u001b[38;5;28;01mfor\u001b[39;00m file_path \u001b[38;5;129;01min\u001b[39;00m \u001b[43mcommit\u001b[49m\u001b[43m.\u001b[49m\u001b[43mstatus\u001b[49m.fiels.keys():\n\u001b[32m     37\u001b[39m         commits_data.append({\n\u001b[32m     38\u001b[39m             \u001b[33m\"\u001b[39m\u001b[33mfile\u001b[39m\u001b[33m\"\u001b[39m: os.path.relpath(file_path, repo_path),\n\u001b[32m     39\u001b[39m             \u001b[33m\"\u001b[39m\u001b[33mcommit_hash\u001b[39m\u001b[33m\"\u001b[39m: commit.hexsha,\n\u001b[32m   (...)\u001b[39m\u001b[32m     42\u001b[39m             \u001b[33m\"\u001b[39m\u001b[33mmessage\u001b[39m\u001b[33m\"\u001b[39m: commit.message.strip()\n\u001b[32m     43\u001b[39m         })\n\u001b[32m     45\u001b[39m \u001b[38;5;28;01mreturn\u001b[39;00m commits_data\n",
      "\u001b[36mFile \u001b[39m\u001b[32mc:\\Projects ML\\AI docxgen\\.venv\\Lib\\site-packages\\gitdb\\util.py:255\u001b[39m, in \u001b[36mLazyMixin.__getattr__\u001b[39m\u001b[34m(self, attr)\u001b[39m\n\u001b[32m    253\u001b[39m \u001b[38;5;28mself\u001b[39m._set_cache_(attr)\n\u001b[32m    254\u001b[39m \u001b[38;5;66;03m# will raise in case the cache was not created\u001b[39;00m\n\u001b[32m--> \u001b[39m\u001b[32m255\u001b[39m \u001b[38;5;28;01mreturn\u001b[39;00m \u001b[38;5;28;43mobject\u001b[39;49m\u001b[43m.\u001b[49m\u001b[34;43m__getattribute__\u001b[39;49m\u001b[43m(\u001b[49m\u001b[38;5;28;43mself\u001b[39;49m\u001b[43m,\u001b[49m\u001b[43m \u001b[49m\u001b[43mattr\u001b[49m\u001b[43m)\u001b[49m\n",
      "\u001b[31mAttributeError\u001b[39m: 'Commit' object has no attribute 'status'"
     ]
    }
   ],
   "source": [
    "import sys\n",
    "sys.path.append(\"..\")\n",
    "\n",
    "from collectors.code_collector import collect_code_data\n",
    "from collectors.git_collector import collect_git_history\n",
    "from preprocessor.linker import link_commits_to_files\n",
    "\n",
    "code_data = collect_code_data(\"C:\\Backyard-Farming-2.0\")\n",
    "git_data = collect_git_history(\"C:\\Backyard-Farming-2.0\")\n",
    "linked = link_commits_to_files(code_data, git_data)\n",
    "\n",
    "linked[:2]"
   ]
  },
  {
   "cell_type": "code",
   "execution_count": null,
   "id": "43c24d16",
   "metadata": {},
   "outputs": [
    {
     "name": "stdout",
     "output_type": "stream",
     "text": [
      "[{'classes': [],\n",
      "  'commits': [],\n",
      "  'file': 'C:\\\\Backyard-Farming-2.0\\\\Api\\\\src\\\\index.ts',\n",
      "  'functions': []}]\n"
     ]
    }
   ],
   "source": [
    "import sys\n",
    "sys.path.append(\"..\")\n",
    "\n",
    "from collectors.code_collector import collect_code_data\n",
    "from collectors.git_collector import collect_git_history\n",
    "from preprocessor.linker import link_commits_to_files\n",
    "\n",
    "# ✅ Use raw strings for Windows paths\n",
    "repo_path = r\"C:\\Backyard-Farming-2.0\"\n",
    "\n",
    "# 🧠 Collect code structure\n",
    "code_data = collect_code_data(repo_path)\n",
    "\n",
    "# 🧠 Collect git commits for all files\n",
    "git_data = collect_git_history(repo_path)\n",
    "\n",
    "# 🔗 Link commits to functions/classes\n",
    "linked = link_commits_to_files(code_data, git_data)\n",
    "\n",
    "# 👀 Display first few entries\n",
    "from pprint import pprint\n",
    "pprint(linked[:3])\n"
   ]
  },
  {
   "cell_type": "code",
   "execution_count": null,
   "id": "8a12e012",
   "metadata": {},
   "outputs": [],
   "source": []
  }
 ],
 "metadata": {
  "kernelspec": {
   "display_name": ".venv",
   "language": "python",
   "name": "python3"
  },
  "language_info": {
   "codemirror_mode": {
    "name": "ipython",
    "version": 3
   },
   "file_extension": ".py",
   "mimetype": "text/x-python",
   "name": "python",
   "nbconvert_exporter": "python",
   "pygments_lexer": "ipython3",
   "version": "3.13.3"
  }
 },
 "nbformat": 4,
 "nbformat_minor": 5
}
